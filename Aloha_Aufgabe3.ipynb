{
  "nbformat": 4,
  "nbformat_minor": 0,
  "metadata": {
    "colab": {
      "provenance": [],
      "authorship_tag": "ABX9TyMd84TlCLSOxiykfAvkJ6Xa",
      "include_colab_link": true
    },
    "kernelspec": {
      "name": "python3",
      "display_name": "Python 3"
    },
    "language_info": {
      "name": "python"
    }
  },
  "cells": [
    {
      "cell_type": "markdown",
      "metadata": {
        "id": "view-in-github",
        "colab_type": "text"
      },
      "source": [
        "<a href=\"https://colab.research.google.com/github/Polina-Stoyanova/ALOHA-Network/blob/main/Aloha_Aufgabe3.ipynb\" target=\"_parent\"><img src=\"https://colab.research.google.com/assets/colab-badge.svg\" alt=\"Open In Colab\"/></a>"
      ]
    },
    {
      "cell_type": "markdown",
      "source": [
        "# Aufgabe 3:"
      ],
      "metadata": {
        "id": "XlRZdeIRdlN1"
      }
    },
    {
      "cell_type": "markdown",
      "source": [
        "# Plotten Sie den Zusammenhang zwischen die Netzbelastung und den relativen Anteil von erfolgreich gesendeten Pakete für ein ALOHA-Netz mit fester Paketgröße mit p = 0,1 und p=0,5."
      ],
      "metadata": {
        "id": "xwHWRZhidqc0"
      }
    },
    {
      "cell_type": "markdown",
      "source": [
        "# Lösung:"
      ],
      "metadata": {
        "id": "tcvrGm7ldwmp"
      }
    },
    {
      "cell_type": "markdown",
      "source": [
        "Aloha is a random access protocol. "
      ],
      "metadata": {
        "id": "QsYCNOX_RoXz"
      }
    },
    {
      "cell_type": "markdown",
      "source": [
        "Wenn ein Gerät etwas zu sagen hat, spricht es mit irgendwelcher Wahrscheinlichkeit p. "
      ],
      "metadata": {
        "id": "jmuMM5LnjIwK"
      }
    },
    {
      "cell_type": "markdown",
      "source": [
        "p - Sendewahrscheilichkeit\n",
        "\n",
        "p < Grenzwert => spreschen\n",
        "\n",
        "p > Grenzwert => nicht sprechen"
      ],
      "metadata": {
        "id": "Ol9v8XGFjUPa"
      }
    },
    {
      "cell_type": "markdown",
      "source": [
        "# Arrival rate:"
      ],
      "metadata": {
        "id": "gT5NJ12T0xzw"
      }
    },
    {
      "cell_type": "markdown",
      "source": [
        "- The arrival rate is the rate of new arrivals =>\n",
        "\n",
        "Arrival rate λ = number of new messages that arrives per time unit.\n"
      ],
      "metadata": {
        "id": "hI-uhD220XLE"
      }
    },
    {
      "cell_type": "markdown",
      "source": [
        "# Packets:"
      ],
      "metadata": {
        "id": "WYR7fQyz1Yiv"
      }
    },
    {
      "cell_type": "markdown",
      "source": [
        "- All packets have the same size and length. \n",
        "\n",
        "- The packet arrival process is a Poisson process with rate λ."
      ],
      "metadata": {
        "id": "QOX7XMnL1ZAc"
      }
    },
    {
      "cell_type": "markdown",
      "source": [
        "# Throughput S:"
      ],
      "metadata": {
        "id": "G4xY6TO90r8e"
      }
    },
    {
      "cell_type": "markdown",
      "source": [
        "- Throughput S = number of messages that are successfully transmitted per time unit\n",
        "\n",
        "- A message is successfully transmitted if its transmission does not collide with any other message transmission.\n",
        "\n",
        "- Throughput S (frames/s) define the average number of frames successfully transmitted per unit time"
      ],
      "metadata": {
        "id": "_peOKudn03lt"
      }
    },
    {
      "cell_type": "markdown",
      "source": [
        "# Offered load:"
      ],
      "metadata": {
        "id": "FKuadJ_W1FGl"
      }
    },
    {
      "cell_type": "markdown",
      "source": [
        "- Offered load = all packets that contend for the transmission medium.\n",
        "\n",
        "- When a transmission is unsuccessful, it will be retransmitted.\n",
        "\n",
        "- Retransmission attempts are not counted towards the arrival rate.\n",
        "\n",
        "- Retransmission attempts are part of the offered load.\n",
        "\n",
        "- The offered load is also Poisson distributed with rate G.\n"
      ],
      "metadata": {
        "id": "YatbGtI41H3E"
      }
    },
    {
      "cell_type": "markdown",
      "source": [
        "# Graph of Aloha throughput (S) vs. offered load (G):"
      ],
      "metadata": {
        "id": "_2ehdAzs3IIu"
      }
    },
    {
      "cell_type": "markdown",
      "source": [
        "# SLOTTED ALOHA"
      ],
      "metadata": {
        "id": "dyU1GSXKMH1S"
      }
    },
    {
      "cell_type": "code",
      "source": [
        "from re import I\n",
        "from operator import length_hint\n",
        "import matplotlib.pyplot as plot\n",
        "import numpy as np\n",
        "import math as math\n",
        "\n",
        "n = 300     #users (channels)\n",
        "p1 = 0.5\n",
        "p2 = 0.1\n",
        "\n",
        "arr_users = np.arange(0, n, 1)\n",
        "\n",
        "x1 = arr_users\n",
        "x2 = arr_users\n",
        "\n",
        "y1 = arr_users\n",
        "s1 = np.zeros(len(arr_users))\n",
        "s2 =  np.zeros(len(arr_users))\n",
        "\n",
        "x1 = x1 * p1\n",
        "x2 = x2 * p2\n",
        "\n",
        "λ1 = y1* p1\n",
        "λ2 = y1* p2\n",
        "\n",
        "for i in range(n):\n",
        "  s1[i] = λ1[i]*(math.exp(-λ1[i]))\n",
        "  \n",
        "for i in range(n):\n",
        "  s2[i] = λ2[i]*(math.exp(-λ2[i]))\n",
        "\n",
        "plot.plot(x1, s1)\n",
        "plot.xlabel('Offered load (G)')\n",
        "plot.ylabel('Throughput (S)')\n",
        "plot.title('Graph of Aloha: p = 0.5')\n"
      ],
      "metadata": {
        "colab": {
          "base_uri": "https://localhost:8080/",
          "height": 313
        },
        "id": "yTEHc1LgCIQX",
        "outputId": "707166cc-9c9f-4849-aa30-ef7c1a058160"
      },
      "execution_count": null,
      "outputs": [
        {
          "output_type": "execute_result",
          "data": {
            "text/plain": [
              "Text(0.5, 1.0, 'Graph of Aloha: p = 0.5')"
            ]
          },
          "metadata": {},
          "execution_count": 1
        },
        {
          "output_type": "display_data",
          "data": {
            "text/plain": [
              "<Figure size 432x288 with 1 Axes>"
            ],
            "image/png": "[encoded data removed]"
          },
          "metadata": {
            "needs_background": "light"
          }
        }
      ]
    },
    {
      "cell_type": "code",
      "source": [
        "plot.plot(x2, s2)\n",
        "plot.xlabel('Offered load (G)')\n",
        "plot.ylabel('Throughput (S)')\n",
        "plot.title('Graph of Aloha: p = 0.1')"
      ],
      "metadata": {
        "colab": {
          "base_uri": "https://localhost:8080/",
          "height": 313
        },
        "id": "4h46JAi__ubN",
        "outputId": "4451032b-840c-4926-cf3c-40ab80bb7114"
      },
      "execution_count": null,
      "outputs": [
        {
          "output_type": "execute_result",
          "data": {
            "text/plain": [
              "Text(0.5, 1.0, 'Graph of Aloha: p = 0.1')"
            ]
          },
          "metadata": {},
          "execution_count": 146
        },
        {
          "output_type": "display_data",
          "data": {
            "text/plain": [
              "<Figure size 432x288 with 1 Axes>"
            ],
            "image/png": "[encoded data removed]"
          },
          "metadata": {
            "needs_background": "light"
          }
        }
      ]
    }
  ]
}